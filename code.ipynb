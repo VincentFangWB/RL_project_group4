{
 "cells": [
  {
   "cell_type": "code",
   "execution_count": 1,
   "metadata": {},
   "outputs": [
    {
     "name": "stdout",
     "output_type": "stream",
     "text": [
      "Price         Adj Close        Close         High          Low         Open  \\\n",
      "Ticker            ^GSPC        ^GSPC        ^GSPC        ^GSPC        ^GSPC   \n",
      "Date                                                                          \n",
      "2025-10-20  6735.129883  6735.129883  6744.350098  6690.049805  6690.049805   \n",
      "2025-10-21  6735.350098  6735.350098  6752.160156  6722.029785  6736.750000   \n",
      "2025-10-22  6699.399902  6699.399902  6741.750000  6655.689941  6741.339844   \n",
      "2025-10-23  6738.439941  6738.439941  6749.529785  6700.140137  6703.649902   \n",
      "2025-10-24  6791.689941  6791.689941  6807.109863  6772.069824  6772.069824   \n",
      "\n",
      "Price           Volume  \n",
      "Ticker           ^GSPC  \n",
      "Date                    \n",
      "2025-10-20  4672170000  \n",
      "2025-10-21  5245020000  \n",
      "2025-10-22  5710010000  \n",
      "2025-10-23  5565750000  \n",
      "2025-10-24  5058220000  \n"
     ]
    }
   ],
   "source": [
    "# scripts/data/get_sp500_yahoo.py\n",
    "import yfinance as yf\n",
    "import pandas as pd\n",
    "\n",
    "df = yf.download(\"^GSPC\", start=\"2020-01-01\", interval=\"1d\", auto_adjust=False, progress=False)\n",
    "print(df.tail())\n"
   ]
  },
  {
   "cell_type": "code",
   "execution_count": null,
   "metadata": {},
   "outputs": [],
   "source": []
  }
 ],
 "metadata": {
  "kernelspec": {
   "display_name": "base",
   "language": "python",
   "name": "python3"
  },
  "language_info": {
   "codemirror_mode": {
    "name": "ipython",
    "version": 3
   },
   "file_extension": ".py",
   "mimetype": "text/x-python",
   "name": "python",
   "nbconvert_exporter": "python",
   "pygments_lexer": "ipython3",
   "version": "3.11.9"
  }
 },
 "nbformat": 4,
 "nbformat_minor": 2
}
